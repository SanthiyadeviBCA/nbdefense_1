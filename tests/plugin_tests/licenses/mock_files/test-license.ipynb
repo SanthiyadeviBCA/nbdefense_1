{
 "cells": [
  {
   "cell_type": "code",
   "execution_count": 7,
   "id": "0d7a3ee3-2905-4755-b369-44144e9fa233",
   "metadata": {},
   "outputs": [
    {
     "name": "stdout",
     "output_type": "stream",
     "text": [
      "e2a6dda0953954cc1bf299b71e2d1befdd22709a\n"
     ]
    }
   ],
   "source": [
    "import pandas\n",
    "import matplotlib.pyplot as plt\n",
    "client_secret = \"e2a6dda0953954cc1bf299b71e2d1befdd22709a\"\n",
    "print(client_secret)\n"
   ]
  },
  {
   "cell_type": "code",
   "execution_count": 8,
   "id": "26e1650c",
   "metadata": {},
   "outputs": [
    {
     "data": {
      "text/plain": [
       "'e2a6dda0953954cc1bf299b71e2d1befdd22709a'"
      ]
     },
     "execution_count": 8,
     "metadata": {},
     "output_type": "execute_result"
    }
   ],
   "source": [
    "import pytorch_lightning as lightning\n",
    "client_secret\n",
    "\n"
   ]
  }
 ],
 "metadata": {
  "kernelspec": {
   "display_name": "Python 3",
   "language": "python",
   "name": "python3"
  },
  "language_info": {
   "codemirror_mode": {
    "name": "ipython",
    "version": 3
   },
   "file_extension": ".py",
   "mimetype": "text/x-python",
   "name": "python",
   "nbconvert_exporter": "python",
   "pygments_lexer": "ipython3",
   "version": "3.10.1"
  }
 },
 "nbformat": 4,
 "nbformat_minor": 5
}
