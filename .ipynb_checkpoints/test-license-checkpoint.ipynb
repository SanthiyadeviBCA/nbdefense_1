{
 "cells": [
  {
   "cell_type": "code",
   "execution_count": 1,
   "id": "0d7a3ee3-2905-4755-b369-44144e9fa233",
   "metadata": {},
   "outputs": [
    {
     "name": "stdout",
     "output_type": "stream",
     "text": [
      "e2a6dda0953954cc1bf299b71e2d1befdd22709a\n"
     ]
    }
   ],
   "source": [
    "import pandas\n",
    "import matplotlib.pyplot as plt\n",
    "client_secret = \"e2a6dda0953954cc1bf299b71e2d1befdd22709a\"\n",
    "print(client_secret)\n"
   ]
  },
  {
   "cell_type": "code",
   "execution_count": 3,
   "id": "26e1650c",
   "metadata": {},
   "outputs": [
    {
     "data": {
      "text/plain": [
       "'e2a6dda0953954cc1bf299b71e2d1befdd22709a'"
      ]
     },
     "execution_count": 3,
     "metadata": {},
     "output_type": "execute_result"
    }
   ],
   "source": [
    "import pytorch_lightning as lightning\n",
    "client_secret\n",
    "\n"
   ]
  },
  {
   "cell_type": "code",
   "execution_count": null,
   "id": "68e5322c-bca7-4ae6-b53a-7b03390f0e15",
   "metadata": {},
   "outputs": [],
   "source": []
  }
 ],
 "metadata": {
  "kernelspec": {
   "display_name": "Python 3 (ipykernel)",
   "language": "python",
   "name": "python3"
  },
  "language_info": {
   "codemirror_mode": {
    "name": "ipython",
    "version": 3
   },
   "file_extension": ".py",
   "mimetype": "text/x-python",
   "name": "python",
   "nbconvert_exporter": "python",
   "pygments_lexer": "ipython3",
   "version": "3.10.1"
  }
 },
 "nbformat": 4,
 "nbformat_minor": 5
}
