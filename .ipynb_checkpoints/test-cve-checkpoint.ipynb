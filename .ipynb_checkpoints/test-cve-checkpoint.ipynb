{
 "cells": [
  {
   "cell_type": "code",
   "execution_count": 4,
   "id": "0d7a3ee3-2905-4755-b369-44144e9fa233",
   "metadata": {},
   "outputs": [
    {
     "name": "stdout",
     "output_type": "stream",
     "text": [
      "output\n"
     ]
    }
   ],
   "source": [
    "import pandas\n",
    "import matplotlibXtns\n",
    "client_secret = \"e2a6dda0953954cc1bf299b71e2d1befdd22709a\"\n",
    "print(\"output\")"
   ]
  },
  {
   "cell_type": "code",
   "execution_count": 3,
   "id": "26e1650c",
   "metadata": {},
   "outputs": [
    {
     "data": {
      "text/plain": [
       "'e2a6dda0953954cc1bf299b71e2d1befdd22709a'"
      ]
     },
     "execution_count": 3,
     "metadata": {},
     "output_type": "execute_result"
    }
   ],
   "source": [
    "import pytorch_lightning as lightning\n",
    "client_secret"
   ]
  }
 ],
 "metadata": {
  "kernelspec": {
   "display_name": "Python 3.8.13 ('nbdefense')",
   "language": "python",
   "name": "python3"
  },
  "language_info": {
   "codemirror_mode": {
    "name": "ipython",
    "version": 3
   },
   "file_extension": ".py",
   "mimetype": "text/x-python",
   "name": "python",
   "nbconvert_exporter": "python",
   "pygments_lexer": "ipython3",
   "version": "3.8.13"
  },
  "vscode": {
   "interpreter": {
    "hash": "7e2becf3a3002680eb4d2fb30f5037c726550c6b7f1911bce4ec05c40b2fbaa9"
   }
  }
 },
 "nbformat": 4,
 "nbformat_minor": 5
}
