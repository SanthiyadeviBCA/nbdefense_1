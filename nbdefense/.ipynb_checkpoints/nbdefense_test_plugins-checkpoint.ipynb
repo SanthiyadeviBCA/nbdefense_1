{
 "cells": [
  {
   "cell_type": "code",
   "execution_count": null,
   "id": "30fc4199-6cbe-437b-b6e9-e0ab83d4f572",
   "metadata": {},
   "outputs": [],
   "source": []
  }
 ],
 "metadata": {
  "kernelspec": {
   "display_name": "Python 3 (ipykernel)",
   "language": "python",
   "name": "python3"
  },
  "language_info": {
   "codemirror_mode": {
    "name": "ipython",
    "version": 3
   },
   "file_extension": ".py",
   "mimetype": "text/x-python",
   "name": "python",
   "nbconvert_exporter": "python",
   "pygments_lexer": "ipython3",
   "version": "3.10.1"
  }
 },
 "nbformat": 4,
 "nbformat_minor": 5
}
