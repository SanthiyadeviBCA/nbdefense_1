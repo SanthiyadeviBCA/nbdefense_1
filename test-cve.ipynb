{
 "cells": [
  {
   "cell_type": "code",
   "execution_count": 1,
   "id": "0d7a3ee3-2905-4755-b369-44144e9fa233",
   "metadata": {},
   "outputs": [
    {
     "name": "stdout",
     "output_type": "stream",
     "text": [
      "output\n"
     ]
    }
   ],
   "source": [
    "import pandas\n",
    "import matplotlibXtns\n",
    "client_secret = \"e2a6dda0953954cc1bf299b71e2d1befdd22709a\"\n",
    "print(\"output\")"
   ]
  },
  {
   "cell_type": "code",
   "execution_count": 4,
   "id": "26e1650c",
   "metadata": {},
   "outputs": [
    {
     "data": {
      "text/plain": [
       "'e2a6dda0953954cc1bf299b71e2d1befdd22709a'"
      ]
     },
     "execution_count": 4,
     "metadata": {},
     "output_type": "execute_result"
    }
   ],
   "source": [
    "import pytorch_lightning as lightning\n",
    "client_secret"
   ]
  },
  {
   "cell_type": "code",
   "execution_count": 6,
   "id": "b63a089e-e7c4-45c8-b7e1-554721967bef",
   "metadata": {},
   "outputs": [
    {
     "name": "stdout",
     "output_type": "stream",
     "text": [
      "C:\\Users\\santhiya\\Documents\\nbdefense\\test_cve.ipynb\n"
     ]
    }
   ],
   "source": [
    "import nbformat\n",
    "from pathlib import Path\n",
    "\n",
    "print(Path(\"test_cve.ipynb\").resolve())\n",
    "\n"
   ]
  },
  {
   "cell_type": "code",
   "execution_count": null,
   "id": "2e520eba-922a-44e3-a9ae-b1214d3a219c",
   "metadata": {},
   "outputs": [],
   "source": []
  },
  {
   "cell_type": "code",
   "execution_count": null,
   "id": "f2495292-4be3-433e-8845-80126e8a8a0d",
   "metadata": {},
   "outputs": [],
   "source": []
  }
 ],
 "metadata": {
  "kernelspec": {
   "display_name": "Python 3 (ipykernel)",
   "language": "python",
   "name": "python3"
  },
  "language_info": {
   "codemirror_mode": {
    "name": "ipython",
    "version": 3
   },
   "file_extension": ".py",
   "mimetype": "text/x-python",
   "name": "python",
   "nbconvert_exporter": "python",
   "pygments_lexer": "ipython3",
   "version": "3.10.1"
  }
 },
 "nbformat": 4,
 "nbformat_minor": 5
}
